{
 "cells": [
  {
   "cell_type": "code",
   "execution_count": 1,
   "metadata": {},
   "outputs": [
    {
     "name": "stderr",
     "output_type": "stream",
     "text": [
      "/Users/pawakapan/anaconda2/lib/python2.7/site-packages/h5py/__init__.py:36: FutureWarning: Conversion of the second argument of issubdtype from `float` to `np.floating` is deprecated. In future, it will be treated as `np.float64 == np.dtype(float).type`.\n",
      "  from ._conv import register_converters as _register_converters\n"
     ]
    }
   ],
   "source": [
    "import numpy as np\n",
    "import matplotlib.pyplot as plt\n",
    "import tensorflow as tf\n",
    "%matplotlib inline"
   ]
  },
  {
   "cell_type": "code",
   "execution_count": 2,
   "metadata": {},
   "outputs": [],
   "source": [
    "mnist = tf.keras.datasets.mnist\n",
    "\n",
    "(x_train, y_train),(x_test, y_test) = mnist.load_data()"
   ]
  },
  {
   "cell_type": "code",
   "execution_count": 36,
   "metadata": {},
   "outputs": [],
   "source": [
    "tr_data = x_train\n",
    "ts_data = x_test\n",
    "tr_labels = []\n",
    "ts_labels = []\n",
    "for ytr in y_train:\n",
    "    tr = np.zeros([10])\n",
    "    tr[ytr] = 1.0\n",
    "    tr_labels.append(tr)\n",
    "for yts in y_test:\n",
    "    ts = np.zeros([10])\n",
    "    ts[yts] = 1.0\n",
    "    ts_labels.append(ts)\n",
    "\n",
    "tr_data = np.array(tr_data,dtype=np.float32)\n",
    "ts_data = np.array(ts_data,dtype=np.float32)\n",
    "tr_labels = np.array(tr_labels,dtype=np.float32)\n",
    "ts_labels = np.array(ts_labels,dtype=np.float32)"
   ]
  },
  {
   "cell_type": "code",
   "execution_count": 37,
   "metadata": {},
   "outputs": [],
   "source": [
    "tf.reset_default_graph()"
   ]
  },
  {
   "cell_type": "code",
   "execution_count": 38,
   "metadata": {},
   "outputs": [],
   "source": [
    "x = tf.placeholder(tf.float32,[None,28,28])\n",
    "y = tf.placeholder(tf.float32,[None,10])\n",
    "\n",
    "W1 = tf.Variable(tf.random_normal([784,64],stddev=0.1))\n",
    "b1 = tf.Variable(tf.random_normal([64],stddev=0.1))\n",
    "\n",
    "W2 = tf.Variable(tf.random_normal([64,10],stddev=0.1))\n",
    "b2 = tf.Variable(tf.random_normal([10],stddev=0.1))\n",
    "\n",
    "x_ = tf.reshape(x,[-1,784])\n",
    "x1 = tf.matmul(x_,W1)+b1\n",
    "x1_a = tf.nn.tanh(x1)\n",
    "x2 = tf.matmul(x1_a,W2)+b2\n",
    "output = tf.nn.softmax(x2)\n",
    "\n",
    "loss = tf.losses.softmax_cross_entropy(y,output)\n",
    "\n",
    "train_op = tf.train.AdamOptimizer(learning_rate=0.001).minimize(loss)"
   ]
  },
  {
   "cell_type": "code",
   "execution_count": 39,
   "metadata": {},
   "outputs": [],
   "source": [
    "sess = tf.Session()\n",
    "sess.run(tf.global_variables_initializer())"
   ]
  },
  {
   "cell_type": "code",
   "execution_count": 40,
   "metadata": {},
   "outputs": [
    {
     "name": "stdout",
     "output_type": "stream",
     "text": [
      "LOSS : 2.3116598\n",
      "ACC : 0.08883333333333333\n",
      "LOSS : 1.7162932\n",
      "ACC : 0.8168\n",
      "LOSS : 1.6532834\n",
      "ACC : 0.8500833333333333\n",
      "LOSS : 1.620149\n",
      "ACC : 0.8686666666666667\n",
      "LOSS : 1.6316565\n",
      "ACC : 0.8608\n",
      "LOSS : 1.6111432\n",
      "ACC : 0.87305\n",
      "LOSS : 1.6133151\n",
      "ACC : 0.8704\n",
      "LOSS : 1.6047347\n",
      "ACC : 0.87525\n",
      "LOSS : 1.6085148\n",
      "ACC : 0.8722833333333333\n",
      "LOSS : 1.5995841\n",
      "ACC : 0.87765\n"
     ]
    }
   ],
   "source": [
    "num_iter = 5000\n",
    "for i in range(num_iter):\n",
    "    indices = np.random.randint(len(tr_data),size=[64])\n",
    "    b_data = tr_data[indices]\n",
    "    b_labels = tr_labels[indices]\n",
    "    \n",
    "    sess.run(train_op,feed_dict={x:b_data,y:b_labels})\n",
    "    \n",
    "    if i % (num_iter/10) == 0:\n",
    "        print(\"LOSS : \" + str(sess.run(loss,feed_dict={x:tr_data,y:tr_labels})))\n",
    "        preds = sess.run(output,feed_dict={x:tr_data})\n",
    "        print(\"ACC : \" + str(np.mean(np.equal(np.argmax(preds,axis=1),np.argmax(tr_labels,axis=1)))))"
   ]
  },
  {
   "cell_type": "code",
   "execution_count": 41,
   "metadata": {},
   "outputs": [
    {
     "data": {
      "image/png": "[encoded data removed]",
      "text/plain": [
       "<matplotlib.figure.Figure at 0x1823739090>"
      ]
     },
     "metadata": {},
     "output_type": "display_data"
    }
   ],
   "source": [
    "plt.imshow(tr_data[0])\n",
    "plt.show()"
   ]
  },
  {
   "cell_type": "code",
   "execution_count": 42,
   "metadata": {},
   "outputs": [
    {
     "name": "stdout",
     "output_type": "stream",
     "text": [
      "[5]\n"
     ]
    }
   ],
   "source": [
    "print(sess.run(tf.argmax(output,axis=1),feed_dict={x:[tr_data[0]]}))"
   ]
  },
  {
   "cell_type": "code",
   "execution_count": 43,
   "metadata": {},
   "outputs": [],
   "source": [
    "pic_grad = sess.run(tf.gradients(output[:,5],x_),feed_dict={x:[tr_data[0]]})[0][0]"
   ]
  },
  {
   "cell_type": "code",
   "execution_count": 44,
   "metadata": {
    "scrolled": true
   },
   "outputs": [
    {
     "data": {
      "text/plain": [
       "array([-4.84474825e-08, -4.52088926e-08,  7.78716824e-09,  2.52851891e-08,\n",
       "       -1.58557771e-08, -9.09306852e-09,  7.94443067e-10, -4.69529091e-08,\n",
       "       -4.53596494e-09,  2.12245439e-08,  2.34572415e-08,  9.82692683e-09,\n",
       "        3.33431522e-08,  7.22314786e-09,  2.39190587e-08, -2.38871536e-08,\n",
       "        4.22732604e-09, -2.63061946e-08,  2.14975131e-08,  1.71854015e-08,\n",
       "       -1.50593955e-08,  6.50245724e-09, -3.05436494e-08, -2.36300757e-08,\n",
       "       -3.71728959e-08, -1.98090131e-08,  2.95667490e-08,  9.96268490e-09,\n",
       "        3.70020438e-11, -1.30976217e-08,  4.77121498e-09,  2.16607443e-09,\n",
       "        1.16413945e-08,  1.03106830e-08,  2.33587172e-09,  4.43765824e-09,\n",
       "       -5.05084474e-10,  1.58200741e-09,  3.06792813e-08,  2.98256619e-09,\n",
       "        1.01140463e-09,  1.87764755e-08, -5.97677952e-09,  2.10092583e-08,\n",
       "        5.02659470e-09, -3.12472146e-08,  4.48423387e-09,  2.07090185e-08,\n",
       "       -2.61109729e-08, -2.60740709e-08, -3.15917283e-08, -5.34643885e-09,\n",
       "        7.58226815e-09, -3.38703265e-09, -3.52938230e-08,  1.38381466e-08,\n",
       "       -4.82356306e-08,  4.34795062e-08, -3.71947380e-08,  1.11658531e-08,\n",
       "       -3.53836871e-09, -2.02656913e-08,  1.86981488e-08, -9.34127442e-10,\n",
       "        7.03363412e-09,  4.59120066e-08,  4.68986485e-08,  1.75152586e-08,\n",
       "       -8.65316530e-09,  6.41812958e-09,  1.92556833e-08,  3.46784397e-08,\n",
       "        7.54175122e-09, -1.72731163e-08, -1.48544252e-08,  8.43764114e-10,\n",
       "       -1.60350240e-08,  1.59591877e-08,  3.79115086e-08,  7.79643194e-09,\n",
       "       -1.61023728e-08, -1.38110776e-08, -1.01712470e-08, -6.23117946e-10,\n",
       "        8.15730594e-09, -4.60659457e-08,  2.43205172e-08,  4.70090242e-08,\n",
       "        2.71897918e-08, -7.59826690e-09,  5.58140449e-08,  5.66616931e-09,\n",
       "        5.97712813e-08,  2.12273878e-08, -3.08140145e-08,  2.68610663e-08,\n",
       "        2.70477845e-08,  7.75577078e-08,  3.32466570e-08,  1.53764148e-08,\n",
       "       -4.22953983e-09, -1.29672006e-08, -4.37920589e-09,  1.75194759e-09,\n",
       "        6.88084540e-08, -2.19920651e-08,  2.92760500e-08,  1.26773729e-08,\n",
       "       -2.84871726e-09, -1.32026790e-09,  1.38064982e-08,  9.31958866e-09,\n",
       "       -1.01593240e-08,  2.01840589e-08,  5.68480063e-09, -2.34722175e-09,\n",
       "       -1.18052750e-08, -2.16304201e-08, -4.10731005e-09,  1.18296404e-08,\n",
       "       -5.74944004e-08, -4.36305250e-08,  3.13211707e-10, -1.25235733e-08,\n",
       "       -5.98311516e-08, -6.70914062e-08,  2.42675036e-08,  1.45496388e-08,\n",
       "        1.41134597e-08,  3.16393596e-08,  1.18888579e-08,  1.38380383e-08,\n",
       "        2.34624533e-08,  1.35344003e-08,  3.17670299e-08,  4.17006127e-08,\n",
       "       -4.08574117e-08,  2.72592455e-08, -3.85784276e-08, -1.66908745e-08,\n",
       "        5.62822544e-09,  4.59480525e-08,  1.34652973e-08, -7.09780963e-08,\n",
       "        3.65131725e-09, -5.38730056e-08,  3.77387765e-09, -4.92842211e-08,\n",
       "       -2.95671807e-08,  1.57362052e-08,  3.14077275e-09, -3.31904850e-08,\n",
       "       -5.04868574e-08, -3.21687388e-08, -5.49530910e-09, -1.11553824e-08,\n",
       "        3.72912758e-08,  5.32950821e-08,  2.43442990e-08,  5.24903765e-09,\n",
       "        2.94768405e-08,  2.66254414e-08,  2.79798549e-08,  1.04912035e-08,\n",
       "       -6.37974651e-09, -1.81201472e-08,  2.59203148e-09,  1.49812944e-08,\n",
       "       -6.38450359e-08, -2.68008318e-08,  1.30044508e-09, -4.10099084e-08,\n",
       "        2.98432887e-08,  1.48731327e-09, -8.34668956e-09,  2.63569433e-09,\n",
       "       -2.27425172e-08, -2.47494718e-08,  5.65210527e-08,  2.35454722e-09,\n",
       "        5.82826942e-09,  2.43434659e-08,  1.20834471e-08, -2.31528254e-08,\n",
       "       -2.20625007e-09, -1.92262615e-08, -7.38292227e-09, -7.94017119e-09,\n",
       "        2.53920156e-08,  5.15772802e-09,  1.37557281e-08,  1.57667790e-09,\n",
       "       -9.28111810e-09,  5.23969774e-08,  4.83975420e-08,  2.73890581e-08,\n",
       "       -1.16117640e-08,  1.78650232e-08,  1.77083201e-08, -4.69997508e-09,\n",
       "       -2.08754507e-08, -5.09026634e-08, -2.32949571e-08, -3.56859893e-08,\n",
       "       -1.76444193e-08,  1.52180579e-08,  5.23704244e-08, -1.87172517e-08,\n",
       "       -2.85960677e-08, -2.89594517e-08, -1.35923406e-08, -8.63486260e-09,\n",
       "       -6.66345779e-09, -4.65735717e-08,  1.39556011e-08,  5.50753265e-09,\n",
       "       -1.17419505e-08,  4.02578948e-08,  3.85769958e-08,  3.40220652e-08,\n",
       "        1.28311859e-08,  3.87300609e-08,  6.47176845e-09,  2.66920512e-08,\n",
       "        3.14706696e-08,  1.78147950e-08, -7.44014228e-09, -4.25588240e-08,\n",
       "        2.22391017e-09,  8.22508817e-09, -6.98783698e-09, -3.54637777e-08,\n",
       "       -2.36162062e-10,  6.17665874e-09, -2.07714503e-08, -1.44854333e-08,\n",
       "       -1.63128817e-08,  7.92526844e-09,  9.67963576e-09, -1.77740116e-08,\n",
       "        6.73632172e-09, -3.82189427e-08, -7.85853871e-08, -8.70647199e-09,\n",
       "       -1.87736475e-08,  3.54625418e-09,  5.99798184e-08,  4.05491001e-08,\n",
       "        7.58025731e-09,  4.56511984e-08,  5.34874793e-08,  2.91594784e-08,\n",
       "        4.04247436e-09,  7.38902894e-09, -3.09821182e-08, -5.74789283e-08,\n",
       "       -4.87406346e-08,  1.42602999e-10, -8.58021387e-09,  3.94061717e-09,\n",
       "        1.22887647e-08,  3.69391167e-08,  5.79398618e-09,  3.46373561e-08,\n",
       "       -1.67481886e-08, -5.05385387e-08,  1.08581490e-08, -4.78183217e-08,\n",
       "       -5.57207471e-08, -4.01396854e-08,  2.36568791e-08, -1.88584188e-08,\n",
       "       -1.44100305e-08,  3.62662185e-08,  4.96804908e-08,  8.03239502e-08,\n",
       "        4.80467151e-08,  4.58685427e-08,  3.88464017e-08,  1.98205061e-08,\n",
       "       -9.88983118e-09,  2.43154274e-09,  8.10042433e-09, -1.70488050e-08,\n",
       "       -2.66096833e-09, -7.10653314e-09, -7.65757591e-09,  2.81614625e-08,\n",
       "       -1.28974789e-10,  1.64603513e-08,  3.63236694e-08,  2.89353359e-08,\n",
       "        4.85186735e-09,  3.78678033e-10,  4.43441550e-08, -6.40376498e-08,\n",
       "       -3.35924994e-08, -2.98517193e-08, -1.56176512e-08, -1.86731253e-08,\n",
       "       -5.97755268e-09,  1.01247011e-09,  4.78072515e-08,  2.38558613e-08,\n",
       "       -3.27162253e-09,  6.22402538e-08,  3.33434897e-08,  2.28442207e-08,\n",
       "        2.29712445e-08,  5.42512808e-08,  1.22571278e-08,  6.87969059e-09,\n",
       "        8.69389805e-09, -1.69582179e-08, -8.82827589e-09,  4.58778260e-08,\n",
       "        4.13637871e-08,  1.33977602e-08,  5.01941742e-08,  7.27498817e-09,\n",
       "       -1.24111939e-08, -8.26729618e-09, -3.77667675e-08,  3.83359433e-09,\n",
       "       -2.18139906e-08, -6.64350210e-08, -9.66946345e-08, -7.16325275e-08,\n",
       "        3.17870281e-08,  4.85308256e-08,  8.72509531e-08,  5.58151392e-08,\n",
       "        5.69772709e-08,  5.21576773e-08,  1.84014670e-08,  1.50976529e-08,\n",
       "       -4.77211728e-08, -4.56936355e-08, -4.85962826e-09, -5.27807309e-08,\n",
       "       -4.32546408e-08,  2.41378828e-08,  3.54381662e-08, -2.92976079e-08,\n",
       "        9.25170163e-09,  3.20860103e-08,  1.35455691e-08,  2.11873346e-08,\n",
       "        1.87540241e-08, -7.56839214e-09, -3.01644256e-08, -1.86245419e-08,\n",
       "       -9.88047244e-09, -2.24968399e-08, -5.52269483e-08, -2.78948065e-08,\n",
       "       -3.15643227e-08, -1.05222497e-08,  3.32682433e-08,  7.67718689e-08,\n",
       "        5.05791249e-08,  2.11126299e-08,  7.21485582e-09,  9.37411926e-09,\n",
       "       -4.90607510e-09, -2.89591533e-08,  1.35474743e-08, -5.31700479e-08,\n",
       "       -2.01903010e-08, -5.99545231e-08,  1.12728529e-08,  2.94574445e-08,\n",
       "       -3.41265043e-08,  1.69381327e-08, -1.70058243e-08, -2.01102548e-08,\n",
       "       -2.88031177e-09,  3.01883674e-08, -5.49609354e-08, -2.76439938e-09,\n",
       "       -3.01618641e-08, -2.84582686e-08, -2.98254186e-08, -1.43555328e-08,\n",
       "        2.71933196e-08, -1.10602238e-08,  3.64749084e-08,  4.67843684e-08,\n",
       "        1.34483180e-08,  4.63079282e-08,  3.68278705e-08,  7.42689954e-09,\n",
       "        9.77993508e-09,  4.83432032e-08, -1.03506059e-09, -7.32666949e-09,\n",
       "       -9.24216437e-09, -8.21406410e-09, -1.65875864e-08, -2.68928737e-08,\n",
       "       -1.18098764e-09,  1.03617053e-08,  6.33903463e-09, -1.13283622e-08,\n",
       "        1.02669349e-08,  1.42636427e-08, -6.72441614e-09, -3.14338422e-08,\n",
       "       -4.32533405e-08, -3.10901456e-08,  8.60587868e-09, -5.55396866e-08,\n",
       "       -1.71121997e-08,  3.00650207e-08,  2.35692141e-08,  5.90477889e-09,\n",
       "        5.43178196e-08,  1.53103539e-08, -1.70019163e-08,  3.29753069e-09,\n",
       "       -2.95509377e-08,  3.33176242e-09,  2.30895392e-08, -3.34910908e-08,\n",
       "       -4.52967548e-08, -3.03500087e-08, -2.10633599e-09, -2.19205347e-08,\n",
       "        1.91096845e-08, -2.83465820e-08, -4.14470129e-08,  4.50724755e-08,\n",
       "        1.14369891e-08, -1.43291281e-08, -1.04558362e-09, -4.29918821e-08,\n",
       "       -2.58957158e-08, -1.81894251e-08, -4.01139957e-08,  1.37953080e-08,\n",
       "        2.83537016e-08, -3.82609429e-08, -3.11270689e-08,  6.03518373e-08,\n",
       "        5.50227561e-08, -1.70921464e-08,  2.50756074e-08,  2.65375766e-09,\n",
       "        1.22764972e-08, -2.09224655e-08, -1.69745373e-08, -2.49056793e-08,\n",
       "       -4.91859957e-08, -1.05808269e-08, -3.40553079e-08,  2.42687879e-08,\n",
       "        2.34686048e-08,  4.37252234e-09, -3.96128819e-09, -4.11720258e-09,\n",
       "       -2.14662910e-09,  7.60198127e-09, -4.64603778e-09, -4.89034813e-09,\n",
       "       -2.41486244e-08, -2.56279282e-08, -9.24091914e-09,  2.22599112e-08,\n",
       "        4.94948544e-08,  4.36238556e-09, -6.22924574e-08, -3.77072205e-08,\n",
       "        4.32296616e-08, -1.97644523e-09, -4.11103436e-08, -1.98970902e-08,\n",
       "        1.37869369e-08, -6.88150159e-09,  3.93615673e-09, -2.23478147e-09,\n",
       "       -4.59974387e-08, -4.11903223e-09, -4.72171102e-08, -2.00936756e-09,\n",
       "        1.91122993e-08,  2.49431640e-08,  2.27804176e-09, -3.06197272e-08,\n",
       "        1.47281112e-08, -3.71801328e-08,  8.15830070e-09,  1.58006230e-09,\n",
       "       -4.05572962e-08, -3.30365744e-08, -1.14338139e-08,  5.46563861e-09,\n",
       "       -1.67704837e-08,  1.36625991e-08,  1.95286312e-08,  1.40417644e-09,\n",
       "        6.98648517e-09, -3.73626996e-08, -3.50099967e-08,  3.62407633e-08,\n",
       "        4.70572514e-09, -5.17022229e-08,  2.51628016e-08, -1.15178311e-08,\n",
       "       -1.36904790e-08, -2.26595347e-08,  3.57068117e-08,  3.78151555e-08,\n",
       "        3.86106080e-08,  3.40178801e-08,  3.34066002e-08,  1.58278795e-08,\n",
       "       -3.83528018e-08, -8.86849083e-09, -2.90210855e-09,  1.36113281e-08,\n",
       "       -2.54868517e-08,  1.24040067e-08,  4.71055941e-08,  8.29501090e-09,\n",
       "       -7.14498771e-09,  2.09104432e-08, -1.12533893e-08,  1.44135113e-08,\n",
       "       -1.75792376e-08, -1.76794881e-08, -4.97600503e-08, -6.48824938e-10,\n",
       "        3.04892609e-08,  1.99746673e-08,  8.76729744e-10,  2.00956833e-08,\n",
       "       -5.36824025e-08, -4.85500600e-08,  2.80378760e-08,  4.38474546e-09,\n",
       "        3.61806975e-08, -2.42363800e-08,  4.24615791e-08,  1.97314787e-08,\n",
       "        4.69302073e-08,  1.92195149e-08,  8.77389983e-09, -1.68711018e-08,\n",
       "       -4.01938216e-09, -3.61058277e-08,  1.09226972e-09,  9.44703343e-12,\n",
       "        3.09218144e-08, -9.79574533e-10,  5.44214771e-08, -8.10179035e-09,\n",
       "        2.25228565e-08,  2.13694129e-08,  3.12640864e-08,  9.16877685e-09,\n",
       "        9.50513801e-09,  4.73936126e-08,  2.61812652e-08, -1.86800566e-08,\n",
       "       -4.34895604e-08,  4.38920154e-08,  2.76061236e-08,  3.51135085e-08,\n",
       "        6.56056898e-08,  1.76675368e-08,  1.31239153e-08,  2.59621018e-08,\n",
       "        2.60598139e-08, -1.33976163e-08, -2.35009967e-09,  4.47550903e-08,\n",
       "       -2.61688005e-08, -3.69006870e-08,  1.32222873e-08,  2.55905892e-08,\n",
       "        2.76390608e-08,  2.70181992e-08,  4.79780127e-08,  1.33088633e-08,\n",
       "       -1.95517913e-08,  2.56165951e-08, -7.34384376e-09,  2.10052011e-08,\n",
       "        3.41799051e-08,  2.13772928e-08, -3.70763189e-08, -4.19389963e-08,\n",
       "       -7.74302311e-09,  2.63784088e-08,  8.87987905e-09, -2.59919730e-08,\n",
       "        2.97537195e-08, -2.18678853e-08,  7.03288094e-09, -1.67073022e-08,\n",
       "        1.62068954e-08,  2.93139717e-08,  1.59871956e-08,  7.06568493e-09,\n",
       "        2.32178077e-09, -3.95099953e-08,  1.54036393e-08,  2.92145366e-08,\n",
       "       -1.00146593e-08,  3.14901278e-08, -8.13743384e-09, -1.34770630e-08,\n",
       "       -9.68591873e-09, -1.79018560e-08, -2.19516920e-08, -3.26030118e-08,\n",
       "        1.02536699e-08,  2.01309334e-08,  1.88030356e-08,  1.43737076e-08,\n",
       "       -7.22869453e-09, -6.99677694e-09, -3.76321942e-08, -2.21362129e-08,\n",
       "       -3.16205018e-08,  7.52395692e-08,  3.25442642e-08,  2.94579010e-08,\n",
       "        3.02906784e-08,  2.19704397e-08, -1.57129509e-08, -1.67959140e-08,\n",
       "       -3.28476197e-08, -3.64047530e-08, -1.67951111e-08,  1.00990754e-08,\n",
       "       -3.32484653e-08, -3.38001911e-08,  1.36816114e-08, -6.78586476e-09,\n",
       "        2.42487417e-08, -4.51516557e-09,  1.64474248e-08, -1.22395161e-08,\n",
       "        5.69488314e-08,  2.68748632e-08, -3.91855011e-08,  1.67091656e-08,\n",
       "       -2.21977059e-09,  3.99068760e-08, -1.01708864e-08, -1.76870962e-08,\n",
       "        1.91404652e-08, -5.31179878e-10, -3.04459711e-08,  2.71674017e-09,\n",
       "        2.42383695e-08, -3.27342988e-08, -2.08141486e-08, -2.89070954e-08,\n",
       "       -4.15661772e-09, -1.26354793e-08,  5.64279334e-09, -4.49946818e-08,\n",
       "        3.45646249e-08,  8.41335090e-09,  4.18440287e-08, -6.61123289e-09,\n",
       "        1.31531159e-08, -1.96006198e-08, -2.18259455e-08, -2.16411760e-08,\n",
       "        2.80354353e-08,  2.59897668e-08,  2.86131119e-08,  4.52070985e-08,\n",
       "        2.32751880e-08,  1.86447746e-08, -1.60181806e-08,  5.34794715e-08,\n",
       "       -2.16308500e-08,  1.98694323e-08,  3.37543793e-09, -4.18326129e-09,\n",
       "        5.89688405e-08,  2.47718930e-08,  8.90716745e-09,  4.31494840e-09,\n",
       "       -3.24084795e-08,  3.33784165e-08, -1.07261817e-08,  4.41283632e-09,\n",
       "       -1.56236073e-08, -3.44905331e-08, -5.29460067e-08,  2.85526038e-08,\n",
       "        5.19674366e-08, -3.45751126e-08,  5.77956394e-09,  9.75273817e-09,\n",
       "       -2.69477543e-08, -2.15263505e-08,  5.37647900e-08,  9.68200009e-09,\n",
       "       -8.78688322e-09, -1.66426819e-08,  9.93876714e-09, -3.37325261e-08,\n",
       "       -1.00088213e-08, -7.63756347e-09, -2.80322237e-08,  1.09362484e-08,\n",
       "       -9.55959045e-09,  3.24269749e-08, -5.84938453e-09, -7.33150074e-09,\n",
       "       -5.73917003e-09,  2.38374973e-08, -1.67212981e-08, -8.04128319e-08,\n",
       "       -3.70788413e-08,  1.05474895e-09, -1.49518655e-08, -1.41295384e-08,\n",
       "       -1.63321285e-08,  2.54366028e-10, -2.38024112e-09,  2.36270967e-08,\n",
       "        5.17569099e-08,  2.40387781e-08,  3.11111954e-08,  5.37044054e-09,\n",
       "       -2.42743550e-08, -3.05281240e-08, -4.23385771e-08, -1.51306423e-09,\n",
       "       -3.04878505e-08, -4.75973216e-08, -5.51833201e-09, -5.08214200e-08,\n",
       "       -3.55142333e-08, -3.05747037e-08, -1.64583778e-08, -1.65274425e-08,\n",
       "       -4.68576324e-08, -1.61007954e-08, -2.46016292e-08, -8.14315371e-09,\n",
       "       -5.86238336e-10,  2.15478337e-08,  1.22694854e-10, -1.16523333e-08,\n",
       "        2.02820090e-08, -1.18951755e-08,  2.77936536e-08, -4.67521915e-08,\n",
       "       -5.16875716e-08,  3.21283555e-09, -1.27485800e-08,  1.69788681e-08,\n",
       "       -1.63254543e-09,  3.26824612e-08, -1.15379954e-08, -1.64100058e-08,\n",
       "        5.75440007e-09,  1.50508037e-10,  4.74403414e-08, -1.10679146e-08,\n",
       "       -6.34087698e-08, -3.59742387e-08, -4.23304201e-08, -4.51890756e-08,\n",
       "       -3.20297069e-08,  8.61826699e-09, -2.76655783e-08, -1.40201228e-08,\n",
       "        8.94930519e-10, -1.43044687e-08,  3.11632746e-08, -2.32148061e-08,\n",
       "       -2.52563446e-08, -6.57351018e-09,  3.42404860e-09, -1.89603071e-08],\n",
       "      dtype=float32)"
      ]
     },
     "execution_count": 44,
     "metadata": {},
     "output_type": "execute_result"
    }
   ],
   "source": [
    "pic_grad"
   ]
  },
  {
   "cell_type": "code",
   "execution_count": 45,
   "metadata": {},
   "outputs": [
    {
     "data": {
      "image/png": "[encoded data removed]",
      "text/plain": [
       "<matplotlib.figure.Figure at 0x1823922e90>"
      ]
     },
     "metadata": {},
     "output_type": "display_data"
    }
   ],
   "source": [
    "plt.imshow(np.reshape(np.absolute(pic_grad),[28,28]))\n",
    "plt.show()"
   ]
  },
  {
   "cell_type": "code",
   "execution_count": 46,
   "metadata": {},
   "outputs": [],
   "source": [
    "# GET UNIQUE VALUES OF EACH PIXEL IN DATASET\n",
    "\n",
    "unique_vals = []\n",
    "for pixel in range(784):\n",
    "    pixel = np.reshape(tr_data,[-1,784])[:,pixel]\n",
    "    unique_vals.append(np.unique(pixel))"
   ]
  },
  {
   "cell_type": "code",
   "execution_count": 47,
   "metadata": {},
   "outputs": [
    {
     "name": "stdout",
     "output_type": "stream",
     "text": [
      "0\n",
      "50\n",
      "100\n",
      "150\n",
      "200\n",
      "250\n",
      "300\n",
      "350\n",
      "400\n",
      "450\n",
      "500\n",
      "550\n",
      "600\n",
      "650\n",
      "700\n",
      "750\n"
     ]
    }
   ],
   "source": [
    "outputs = []\n",
    "output_ = output[:,5]\n",
    "for i,uv in enumerate(unique_vals):\n",
    "    o_ = []\n",
    "    if i % 50 == 0:\n",
    "        print(i)\n",
    "    for xnew in uv:\n",
    "        dat = np.array(tr_data[0])\n",
    "        dat[i/28][i%28] = xnew\n",
    "        op_ = sess.run(output_,feed_dict={x:[dat]})[0]\n",
    "        o_.append(op_)\n",
    "    outputs.append(o_)"
   ]
  },
  {
   "cell_type": "code",
   "execution_count": 48,
   "metadata": {},
   "outputs": [],
   "source": [
    "val = sess.run(output[:,5],feed_dict={x:[tr_data[0]]})[0]\n",
    "delta = []\n",
    "abs_delta = []\n",
    "for op in outputs:\n",
    "    if len(op) == 1:\n",
    "        delta.append(0.0)\n",
    "        abs_delta.append(1.0)\n",
    "    else:\n",
    "        delta.append(np.sum(val-np.array(op)))\n",
    "        j = np.sum(np.absolute(val-np.array(op)))\n",
    "        if j == 0:\n",
    "            abs_delta.append(1.0)\n",
    "        else:\n",
    "            abs_delta.append(j)\n",
    "delta = np.array(delta)\n",
    "abs_delta = np.array(abs_delta)"
   ]
  },
  {
   "cell_type": "code",
   "execution_count": 49,
   "metadata": {},
   "outputs": [],
   "source": [
    "a = delta/abs_delta"
   ]
  },
  {
   "cell_type": "code",
   "execution_count": 50,
   "metadata": {},
   "outputs": [
    {
     "ename": "TypeError",
     "evalue": "set_ylabel() takes at least 2 arguments (1 given)",
     "output_type": "error",
     "traceback": [
      "\u001b[0;31m---------------------------------------------------------------------------\u001b[0m",
      "\u001b[0;31mTypeError\u001b[0m                                 Traceback (most recent call last)",
      "\u001b[0;32m<ipython-input-50-4a957eb0830c>\u001b[0m in \u001b[0;36m<module>\u001b[0;34m()\u001b[0m\n\u001b[1;32m      2\u001b[0m \u001b[0mim\u001b[0m \u001b[0;34m=\u001b[0m \u001b[0max\u001b[0m\u001b[0;34m.\u001b[0m\u001b[0mimshow\u001b[0m\u001b[0;34m(\u001b[0m\u001b[0mnp\u001b[0m\u001b[0;34m.\u001b[0m\u001b[0mreshape\u001b[0m\u001b[0;34m(\u001b[0m\u001b[0ma\u001b[0m\u001b[0;34m,\u001b[0m\u001b[0;34m[\u001b[0m\u001b[0;36m28\u001b[0m\u001b[0;34m,\u001b[0m\u001b[0;36m28\u001b[0m\u001b[0;34m]\u001b[0m\u001b[0;34m)\u001b[0m\u001b[0;34m)\u001b[0m\u001b[0;34m\u001b[0m\u001b[0m\n\u001b[1;32m      3\u001b[0m \u001b[0mcbar\u001b[0m \u001b[0;34m=\u001b[0m \u001b[0max\u001b[0m\u001b[0;34m.\u001b[0m\u001b[0mfigure\u001b[0m\u001b[0;34m.\u001b[0m\u001b[0mcolorbar\u001b[0m\u001b[0;34m(\u001b[0m\u001b[0mim\u001b[0m\u001b[0;34m,\u001b[0m \u001b[0max\u001b[0m\u001b[0;34m=\u001b[0m\u001b[0max\u001b[0m\u001b[0;34m)\u001b[0m\u001b[0;34m\u001b[0m\u001b[0m\n\u001b[0;32m----> 4\u001b[0;31m \u001b[0mcbar\u001b[0m\u001b[0;34m.\u001b[0m\u001b[0max\u001b[0m\u001b[0;34m.\u001b[0m\u001b[0mset_ylabel\u001b[0m\u001b[0;34m(\u001b[0m\u001b[0mrotation\u001b[0m\u001b[0;34m=\u001b[0m\u001b[0;34m-\u001b[0m\u001b[0;36m90\u001b[0m\u001b[0;34m,\u001b[0m \u001b[0mva\u001b[0m\u001b[0;34m=\u001b[0m\u001b[0;34m\"bottom\"\u001b[0m\u001b[0;34m)\u001b[0m\u001b[0;34m\u001b[0m\u001b[0m\n\u001b[0m",
      "\u001b[0;31mTypeError\u001b[0m: set_ylabel() takes at least 2 arguments (1 given)"
     ]
    },
    {
     "data": {
      "image/png": "[encoded data removed]",
      "text/plain": [
       "<matplotlib.figure.Figure at 0x18237ecc10>"
      ]
     },
     "metadata": {},
     "output_type": "display_data"
    }
   ],
   "source": [
    "fig, ax = plt.subplots()\n",
    "im = ax.imshow(np.reshape(a,[28,28]))\n",
    "cbar = ax.figure.colorbar(im, ax=ax)\n",
    "cbar.ax.set_ylabel(rotation=-90, va=\"bottom\")"
   ]
  },
  {
   "cell_type": "code",
   "execution_count": null,
   "metadata": {},
   "outputs": [],
   "source": []
  }
 ],
 "metadata": {
  "kernelspec": {
   "display_name": "Python 2",
   "language": "python",
   "name": "python2"
  },
  "language_info": {
   "codemirror_mode": {
    "name": "ipython",
    "version": 2
   },
   "file_extension": ".py",
   "mimetype": "text/x-python",
   "name": "python",
   "nbconvert_exporter": "python",
   "pygments_lexer": "ipython2",
   "version": "2.7.14"
  }
 },
 "nbformat": 4,
 "nbformat_minor": 2
}
